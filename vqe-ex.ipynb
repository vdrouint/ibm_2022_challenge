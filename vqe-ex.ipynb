{
 "cells": [
  {
   "attachments": {},
   "cell_type": "markdown",
   "metadata": {},
   "source": [
    "Wazzup"
   ]
  },
  {
   "attachments": {},
   "cell_type": "markdown",
   "metadata": {},
   "source": [
    "A small VQE for the ground state, from past IBM challenges, using sampler and estimators (of qiskit). "
   ]
  },
  {
   "cell_type": "code",
   "execution_count": 1,
   "metadata": {},
   "outputs": [
    {
     "name": "stdout",
     "output_type": "stream",
     "text": [
      "1.0 * XYII\n",
      "+ 2.0 * IYZI\n",
      "+ 3.0 * IIZX\n",
      "+ 4.0 * XIII\n",
      "+ 5.0 * IYII\n"
     ]
    }
   ],
   "source": [
    "# define Hamiltonian\n",
    "from qiskit.opflow import PauliSumOp\n",
    "H = PauliSumOp.from_list([('XYII', 1), ('IYZI', 2), ('IIZX', 3), ('XIII', 4), ('IYII', 5)])\n",
    "\n",
    "print(H)"
   ]
  },
  {
   "cell_type": "code",
   "execution_count": 2,
   "metadata": {},
   "outputs": [
    {
     "data": {
      "text/html": [
       "<pre style=\"word-wrap: normal;white-space: pre;background: #fff0;line-height: 1.1;font-family: &quot;Courier New&quot;,Courier,monospace\">        ┌──────────┐┌──────────┐                                ┌──────────┐┌───────────┐ ░ ┌─┐         \n",
       "   q_0: ┤ Ry(θ[0]) ├┤ Rz(θ[4]) ├────────────────────────■───────┤ Ry(θ[8]) ├┤ Rz(θ[12]) ├─░─┤M├─────────\n",
       "        ├──────────┤├──────────┤                      ┌─┴─┐     ├──────────┤├───────────┤ ░ └╥┘┌─┐      \n",
       "   q_1: ┤ Ry(θ[1]) ├┤ Rz(θ[5]) ├───────────■──────────┤ X ├─────┤ Ry(θ[9]) ├┤ Rz(θ[13]) ├─░──╫─┤M├──────\n",
       "        ├──────────┤├──────────┤         ┌─┴─┐    ┌───┴───┴───┐┌┴──────────┤└───────────┘ ░  ║ └╥┘┌─┐   \n",
       "   q_2: ┤ Ry(θ[2]) ├┤ Rz(θ[6]) ├──■──────┤ X ├────┤ Ry(θ[10]) ├┤ Rz(θ[14]) ├──────────────░──╫──╫─┤M├───\n",
       "        ├──────────┤├──────────┤┌─┴─┐┌───┴───┴───┐├───────────┤└───────────┘              ░  ║  ║ └╥┘┌─┐\n",
       "   q_3: ┤ Ry(θ[3]) ├┤ Rz(θ[7]) ├┤ X ├┤ Ry(θ[11]) ├┤ Rz(θ[15]) ├───────────────────────────░──╫──╫──╫─┤M├\n",
       "        └──────────┘└──────────┘└───┘└───────────┘└───────────┘                           ░  ║  ║  ║ └╥┘\n",
       "meas: 4/═════════════════════════════════════════════════════════════════════════════════════╩══╩══╩══╩═\n",
       "                                                                                             0  1  2  3 </pre>"
      ],
      "text/plain": [
       "        ┌──────────┐┌──────────┐                                ┌──────────┐┌───────────┐ ░ ┌─┐         \n",
       "   q_0: ┤ Ry(θ[0]) ├┤ Rz(θ[4]) ├────────────────────────■───────┤ Ry(θ[8]) ├┤ Rz(θ[12]) ├─░─┤M├─────────\n",
       "        ├──────────┤├──────────┤                      ┌─┴─┐     ├──────────┤├───────────┤ ░ └╥┘┌─┐      \n",
       "   q_1: ┤ Ry(θ[1]) ├┤ Rz(θ[5]) ├───────────■──────────┤ X ├─────┤ Ry(θ[9]) ├┤ Rz(θ[13]) ├─░──╫─┤M├──────\n",
       "        ├──────────┤├──────────┤         ┌─┴─┐    ┌───┴───┴───┐┌┴──────────┤└───────────┘ ░  ║ └╥┘┌─┐   \n",
       "   q_2: ┤ Ry(θ[2]) ├┤ Rz(θ[6]) ├──■──────┤ X ├────┤ Ry(θ[10]) ├┤ Rz(θ[14]) ├──────────────░──╫──╫─┤M├───\n",
       "        ├──────────┤├──────────┤┌─┴─┐┌───┴───┴───┐├───────────┤└───────────┘              ░  ║  ║ └╥┘┌─┐\n",
       "   q_3: ┤ Ry(θ[3]) ├┤ Rz(θ[7]) ├┤ X ├┤ Ry(θ[11]) ├┤ Rz(θ[15]) ├───────────────────────────░──╫──╫──╫─┤M├\n",
       "        └──────────┘└──────────┘└───┘└───────────┘└───────────┘                           ░  ║  ║  ║ └╥┘\n",
       "meas: 4/═════════════════════════════════════════════════════════════════════════════════════╩══╩══╩══╩═\n",
       "                                                                                             0  1  2  3 "
      ]
     },
     "execution_count": 2,
     "metadata": {},
     "output_type": "execute_result"
    }
   ],
   "source": [
    "#define ansatz with 16 angle variables (16 = 2^4)\n",
    "from qiskit.circuit.library import EfficientSU2\n",
    "\n",
    "qc = EfficientSU2(num_qubits=H.num_qubits, reps=1)\n",
    "\n",
    "qc_with_meas = qc.measure_all(inplace=False)\n",
    "qc_with_meas.decompose().draw(fold=120)"
   ]
  },
  {
   "cell_type": "code",
   "execution_count": 3,
   "metadata": {},
   "outputs": [
    {
     "name": "stdout",
     "output_type": "stream",
     "text": [
      "{0: 0.3199035315788026, 1: 0.03354139975046105, 2: 0.011865238829641751, 3: 0.06978849958654942, 4: 0.027869794446542983, 5: 0.0041926446695048775, 6: 0.0050992675021793565, 7: 0.012254742706031382, 8: 0.24470677794206513, 9: 0.026397475993841006, 10: 0.010745875551538712, 11: 0.05686283794284751, 12: 0.11124408285147971, 13: 0.014599772948791393, 14: 0.012490839403456345, 15: 0.03843721829626631}\n"
     ]
    }
   ],
   "source": [
    "#sample the circuit:\n",
    "\n",
    "# define a set of (random) parameter values for the ansatz circuit\n",
    "import numpy as np\n",
    "theta = np.random.rand(qc.num_parameters)\n",
    "\n",
    "# use the Sampler to sample from this circuit\n",
    "from qiskit.primitives import Sampler\n",
    "\n",
    "sampler = Sampler([qc_with_meas])\n",
    "s_result = sampler.run([qc_with_meas], [theta]).result()\n",
    "print(s_result.quasi_dists[0])\n",
    "#this gives you a list of the 16 possible bitstring outputs and their probabilities"
   ]
  },
  {
   "cell_type": "code",
   "execution_count": 4,
   "metadata": {},
   "outputs": [
    {
     "name": "stdout",
     "output_type": "stream",
     "text": [
      "EstimatorResult(values=array([5.51844932]), metadata=[{}])\n"
     ]
    }
   ],
   "source": [
    "#find the energy for this distribution of states (i.e. for this random angle theta)\n",
    "from qiskit.primitives import Estimator\n",
    "\n",
    "estimator = Estimator([qc], [H])\n",
    "e_result = estimator.run([qc], [H], [theta]).result()\n",
    "print(e_result)"
   ]
  },
  {
   "attachments": {},
   "cell_type": "markdown",
   "metadata": {},
   "source": [
    "Exact ground state is -13. Can we get close to that by classically optimizing the $\\theta$ parameters?"
   ]
  },
  {
   "cell_type": "code",
   "execution_count": 12,
   "metadata": {},
   "outputs": [
    {
     "name": "stdout",
     "output_type": "stream",
     "text": [
      "-12.999907785626158\n"
     ]
    }
   ],
   "source": [
    "# define objective as expectation value of Hamiltonian with circuit ansatz\n",
    "\n",
    "objective = lambda x: estimator.run([qc], [H], [x]).result().values[0]\n",
    "# instantiate optimizer\n",
    "\n",
    "from qiskit.algorithms.optimizers import SPSA\n",
    "optimizer = SPSA(maxiter=500)\n",
    "\n",
    "#Now, we can pass our objective function to the classical optimizer to find an approximate solution.\n",
    "\n",
    "# define initial values for our circuit parameters\n",
    "x0 = np.random.rand(qc.num_parameters)\n",
    "\n",
    "# minimize the objective function\n",
    "result = optimizer.minimize(objective, x0=x0)\n",
    "\n",
    "# store ground state parameters for later\n",
    "ground_state_params = result.x\n",
    "\n",
    "# print the resulting ground state energy\n",
    "print(result.fun)"
   ]
  },
  {
   "attachments": {},
   "cell_type": "markdown",
   "metadata": {},
   "source": [
    "There you go, we get very close to it!"
   ]
  }
 ],
 "metadata": {
  "kernelspec": {
   "display_name": "base",
   "language": "python",
   "name": "python3"
  },
  "language_info": {
   "codemirror_mode": {
    "name": "ipython",
    "version": 3
   },
   "file_extension": ".py",
   "mimetype": "text/x-python",
   "name": "python",
   "nbconvert_exporter": "python",
   "pygments_lexer": "ipython3",
   "version": "3.8.8"
  },
  "orig_nbformat": 4,
  "vscode": {
   "interpreter": {
    "hash": "1f37f27245d596fe55b086ef4d07c8e05adeb0de442bb689b24ab3f7802e6e24"
   }
  }
 },
 "nbformat": 4,
 "nbformat_minor": 2
}
